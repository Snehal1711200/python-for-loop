{
 "cells": [
  {
   "cell_type": "code",
   "execution_count": 1,
   "id": "3ce68be6-91a9-491b-a778-53a3155b1d7e",
   "metadata": {},
   "outputs": [],
   "source": [
    "# basic if else statement"
   ]
  },
  {
   "cell_type": "code",
   "execution_count": 5,
   "id": "099af996-4360-494a-8262-d6c4d2f35d12",
   "metadata": {},
   "outputs": [
    {
     "name": "stdin",
     "output_type": "stream",
     "text": [
      "enter any number -456\n"
     ]
    },
    {
     "name": "stdout",
     "output_type": "stream",
     "text": [
      "given number -456 is negative\n"
     ]
    }
   ],
   "source": [
    "# check no is positive or negative\n",
    "def check_number():\n",
    "    n = int(input ('enter any number'))\n",
    "    if n>0:\n",
    "        print( 'given number',n,'is positive')\n",
    "    else:\n",
    "        print('given number',n,'is negative')\n",
    "\n",
    "check_number()"
   ]
  },
  {
   "cell_type": "code",
   "execution_count": 6,
   "id": "f8a540c0-24cd-4f60-8835-f1b3c81098d5",
   "metadata": {},
   "outputs": [
    {
     "name": "stdin",
     "output_type": "stream",
     "text": [
      "enter age of a person 21\n"
     ]
    },
    {
     "name": "stdout",
     "output_type": "stream",
     "text": [
      "person age is: 21  is eligible for vote\n"
     ]
    }
   ],
   "source": [
    "# check eligibility of a person\n",
    "def check_eligibility():\n",
    "    age = int(input(\"enter age of a person\"))\n",
    "    if age >=18:\n",
    "        print('person age is:',age,' is eligible for vote')\n",
    "    else:\n",
    "        print('person age is:',age,' is  not eligible for vote')\n",
    "check_eligibility()    "
   ]
  },
  {
   "cell_type": "code",
   "execution_count": 7,
   "id": "3f7582d5-c7bb-48ae-a610-5eeac4d66ea1",
   "metadata": {},
   "outputs": [
    {
     "name": "stdin",
     "output_type": "stream",
     "text": [
      "enter first number 11\n",
      "enter second number 56\n"
     ]
    },
    {
     "name": "stdout",
     "output_type": "stream",
     "text": [
      "num2: 56 is greater than num1\n"
     ]
    }
   ],
   "source": [
    "def find_max_num():\n",
    "    num1 = int(input('enter first number'))\n",
    "    num2 = int(input('enter second number'))\n",
    "    if num1> num2:\n",
    "        print('num1:', num1,'is greater than num2')\n",
    "    else:\n",
    "        print('num2:', num2,'is greater than num1')\n",
    "find_max_num()"
   ]
  },
  {
   "cell_type": "code",
   "execution_count": 8,
   "id": "bada78e8-8811-4cbd-8fb5-33b77b589b12",
   "metadata": {},
   "outputs": [
    {
     "name": "stdin",
     "output_type": "stream",
     "text": [
      "enter year which have to check 2014\n"
     ]
    },
    {
     "name": "stdout",
     "output_type": "stream",
     "text": [
      "given year 2014 is  not a leap year\n"
     ]
    }
   ],
   "source": [
    "def check_leap_year():\n",
    "    year = int(input('enter year which have to check'))\n",
    "    if year%4 ==0:\n",
    "        print('given year', year,'is a leap year')\n",
    "    else:\n",
    "        print('given year', year,'is  not a leap year')\n",
    "check_leap_year()                   "
   ]
  },
  {
   "cell_type": "code",
   "execution_count": 13,
   "id": "0d26693c-2f15-4420-a53d-183786491afb",
   "metadata": {},
   "outputs": [
    {
     "name": "stdin",
     "output_type": "stream",
     "text": [
      "enter any letter y\n"
     ]
    },
    {
     "name": "stdout",
     "output_type": "stream",
     "text": [
      "this is a given letter: y  is a consonant\n"
     ]
    }
   ],
   "source": [
    "def check_character_ofletter():\n",
    "    letter = input('enter any letter')\n",
    "    vowels = ['a', 'e', 'i','o','u']\n",
    "    if letter.lower() in vowels:\n",
    "        print('this is a given letter:',letter,' is a vowel')\n",
    "    else:\n",
    "        print('this is a given letter:',letter,' is a consonant')\n",
    "check_character_ofletter()        "
   ]
  },
  {
   "cell_type": "code",
   "execution_count": 15,
   "id": "a3ebeadb-967f-4999-a521-94cb3f2e0070",
   "metadata": {},
   "outputs": [
    {
     "name": "stdin",
     "output_type": "stream",
     "text": [
      "enter any number 64\n"
     ]
    },
    {
     "name": "stdout",
     "output_type": "stream",
     "text": [
      "this is a given number: 64 is a even number\n"
     ]
    }
   ],
   "source": [
    "def check_number():\n",
    "    num = int(input('enter any number'))\n",
    "    if num%2 == 0:\n",
    "        print('this is a given number:',num,'is a even number')\n",
    "    else:\n",
    "        print('this is a given number:',num,'is a odd number')      \n",
    "check_number()              "
   ]
  },
  {
   "cell_type": "code",
   "execution_count": 18,
   "id": "8915e4ad-fd59-4c7f-acd8-e606647b44a3",
   "metadata": {},
   "outputs": [
    {
     "name": "stdin",
     "output_type": "stream",
     "text": [
      "enter a number here -78\n"
     ]
    },
    {
     "data": {
      "text/plain": [
       "78"
      ]
     },
     "execution_count": 18,
     "metadata": {},
     "output_type": "execute_result"
    }
   ],
   "source": [
    "def calculate_absolute_value():\n",
    "    input_ = int(input('enter a number here'))\n",
    "    if  input_ >0:\n",
    "        return  input_ \n",
    "    else:\n",
    "        return - input_ \n",
    "calculate_absolute_value()    "
   ]
  },
  {
   "cell_type": "code",
   "execution_count": 21,
   "id": "d4d9a930-05de-4978-b736-8c68a85b5ce9",
   "metadata": {},
   "outputs": [
    {
     "name": "stdin",
     "output_type": "stream",
     "text": [
      "enter first number here 56\n",
      "enter second number here 67\n",
      "enter second number here 90\n"
     ]
    },
    {
     "name": "stdout",
     "output_type": "stream",
     "text": [
      "90  is a largest number\n"
     ]
    }
   ],
   "source": [
    "def find_largest_numfromthree():\n",
    "    num1 = int(input('enter first number here'))\n",
    "    num2 = int(input('enter second number here'))\n",
    "    num3 = int(input('enter second number here'))\n",
    "    if num1> num2 and num1>num3:\n",
    "        print(num1,' is a largest number')\n",
    "    elif  num2> num1 and num2> num3:\n",
    "        print(num2,' is a largest number')\n",
    "    else:\n",
    "        print(num3,' is a largest number')\n",
    "find_largest_numfromthree()"
   ]
  },
  {
   "cell_type": "code",
   "execution_count": 6,
   "id": "b9424eee-7458-4180-ba0f-508c926153ab",
   "metadata": {},
   "outputs": [
    {
     "name": "stdin",
     "output_type": "stream",
     "text": [
      "enter any sentence here Race Car\n"
     ]
    },
    {
     "name": "stdout",
     "output_type": "stream",
     "text": [
      "this is a given sentence Race Car is a pallindrome\n"
     ]
    }
   ],
   "source": [
    "def check_pallindrome():\n",
    "    string = input('enter any sentence here')\n",
    "    if string.lower().replace(' ','') == string[::-1].lower().replace(' ',''):\n",
    "        print('this is a given sentence', string,'is a pallindrome')\n",
    "    else:\n",
    "        print('this is not a palindrome')\n",
    "check_pallindrome()"
   ]
  },
  {
   "cell_type": "code",
   "execution_count": 1,
   "id": "6bcdbac3-c359-421e-8c14-277fcbf31dbf",
   "metadata": {},
   "outputs": [
    {
     "name": "stdin",
     "output_type": "stream",
     "text": [
      "enter student score 45\n"
     ]
    },
    {
     "name": "stdout",
     "output_type": "stream",
     "text": [
      "student grade : c\n"
     ]
    }
   ],
   "source": [
    "def grade_score():\n",
    "    score = int(input('enter student score'))\n",
    "    if score >75:\n",
    "        print('student grade : A+')\n",
    "    else:\n",
    "        if score >60:\n",
    "            print('student grade : B+')\n",
    "    \n",
    "        else:\n",
    "            print('student grade : c')\n",
    "grade_score()   "
   ]
  },
  {
   "cell_type": "code",
   "execution_count": 2,
   "id": "772b2cca-3631-4578-a3fa-d32225a68826",
   "metadata": {},
   "outputs": [],
   "source": [
    "# nested if else statement"
   ]
  },
  {
   "cell_type": "code",
   "execution_count": 7,
   "id": "b88fd47c-93eb-4761-b647-ee4be16006cc",
   "metadata": {},
   "outputs": [
    {
     "name": "stdin",
     "output_type": "stream",
     "text": [
      "enter first number here 78\n",
      "enter second number here 90\n",
      "enter second number here 34\n"
     ]
    },
    {
     "name": "stdout",
     "output_type": "stream",
     "text": [
      "90  is a largest number\n"
     ]
    }
   ],
   "source": [
    "def largest_num():\n",
    "    num1 = int(input('enter first number here'))\n",
    "    num2 = int(input('enter second number here'))\n",
    "    num3 = int(input('enter second number here'))\n",
    "    if num1>num2 :\n",
    "        if num1>num3:\n",
    "            print('num1 is greatest number:',num1)\n",
    "        else:\n",
    "            print('num3 is greatest number:',num3)\n",
    "    else:\n",
    "        if num2>num3:\n",
    "            print(num2,' is a largest number')\n",
    "        else:\n",
    "            print('num3 is greatest number:',num3)\n",
    "largest_num()"
   ]
  },
  {
   "cell_type": "code",
   "execution_count": 6,
   "id": "f1534e65-29e3-4fdc-b0b6-be395bdfa2c9",
   "metadata": {},
   "outputs": [
    {
     "name": "stdin",
     "output_type": "stream",
     "text": [
      "enter triangle side length here 8\n",
      "enter second triangle side length  here 7\n",
      "enter third triangle side length here 8\n"
     ]
    },
    {
     "name": "stdout",
     "output_type": "stream",
     "text": [
      "this is a isoscalene triangle\n"
     ]
    }
   ],
   "source": [
    "def define_triangle():\n",
    "    side1 =int(input('enter triangle side length here'))\n",
    "    side2 = int(input('enter second triangle side length  here'))\n",
    "    side3 = int(input('enter third triangle side length here'))\n",
    "    if side1 ==side2 == side3 :\n",
    "        if side1 ==side3 :\n",
    "            print('this is a equilateral triangle')\n",
    "        else:\n",
    "            print('this is a scalene triangle')\n",
    "    else:\n",
    "        if side1 ==side2 or side1== side3 or side2 ==side3 :\n",
    "            print('this is a isoscalene triangle')\n",
    "        else:\n",
    "            print('this is a scalene triangle')\n",
    "define_triangle()   "
   ]
  },
  {
   "cell_type": "code",
   "execution_count": 11,
   "id": "ef16b3f9-5edf-47b5-8417-1daedd152481",
   "metadata": {},
   "outputs": [
    {
     "name": "stdin",
     "output_type": "stream",
     "text": [
      "enter year which have to check 3000\n"
     ]
    },
    {
     "name": "stdout",
     "output_type": "stream",
     "text": [
      "given year 3000 is a century year\n"
     ]
    }
   ],
   "source": [
    "def type_year():\n",
    "    year = int(input('enter year which have to check'))\n",
    "    if year%4 ==0: # when this not run\n",
    "        if year%100 ==0:\n",
    "            if year%400 ==0:\n",
    "                print('given year', year,'is a leap year')\n",
    "            else:\n",
    "                print('given year', year,'is a century year')\n",
    "        else:\n",
    "             print('given year', year,'is a leap year')\n",
    "    else:\n",
    "        print('given year', year,'is a normal year')# then this will be run\n",
    "type_year() "
   ]
  },
  {
   "cell_type": "code",
   "execution_count": 7,
   "id": "df833b20-20e5-4542-866a-9ac045bd5ad3",
   "metadata": {},
   "outputs": [
    {
     "data": {
      "text/plain": [
       "'given num is zero'"
      ]
     },
     "execution_count": 7,
     "metadata": {},
     "output_type": "execute_result"
    }
   ],
   "source": [
    "def num_type(num):\n",
    "    if num>0:\n",
    "        return 'given num is positive num' \n",
    "    else: \n",
    "        if num<0:\n",
    "                return 'given num is negative num'\n",
    "        else:\n",
    "                return 'given num is zero'\n",
    "\n",
    "num = 0\n",
    "num_type(num)"
   ]
  },
  {
   "cell_type": "code",
   "execution_count": 12,
   "id": "81f0cd79-6d6d-4cce-94c1-28031d1e0c92",
   "metadata": {},
   "outputs": [
    {
     "name": "stdout",
     "output_type": "stream",
     "text": [
      "person is not a teenager\n"
     ]
    }
   ],
   "source": [
    "def is_teenager(age):\n",
    "    if age>13:\n",
    "        if age<19:\n",
    "            return 'True'\n",
    "    else:\n",
    "        return 'False'\n",
    "age= 45\n",
    "if is_teenager(age):\n",
    "    print('person is a teenager')\n",
    "else:\n",
    "    print('person is not a teenager')"
   ]
  },
  {
   "cell_type": "code",
   "execution_count": 13,
   "id": "39b86660-9fb4-4050-b757-3de47687e164",
   "metadata": {},
   "outputs": [
    {
     "data": {
      "text/plain": [
       "' given angle is acute'"
      ]
     },
     "execution_count": 13,
     "metadata": {},
     "output_type": "execute_result"
    }
   ],
   "source": [
    "def angle_type(angle):\n",
    "    if angle>90:\n",
    "        return 'given angle is obtuse'\n",
    "    else:\n",
    "        if angle==90:\n",
    "            return 'given angle is right'\n",
    "        else:\n",
    "            return ' given angle is acute'\n",
    "angle= 34\n",
    "angle_type(angle)            "
   ]
  },
  {
   "cell_type": "code",
   "execution_count": 24,
   "id": "f20e6881-bbd0-4364-94e6-6ca9a4209cfa",
   "metadata": {},
   "outputs": [
    {
     "name": "stdout",
     "output_type": "stream",
     "text": [
      "equation has two distinct and real roots\n",
      "root1: (-0.3819660112501051+0j)\n",
      "root2: (-2.618033988749895+0j)\n"
     ]
    }
   ],
   "source": [
    "import cmath \n",
    "def cal_roots(a,b,c):\n",
    "    discriminant = (b**2)-(4*a*c)\n",
    "    if discriminant >0:\n",
    "        print('equation has two distinct and real roots')\n",
    "    else:\n",
    "        if discriminant == 0:\n",
    "            print('equation has one repeated real root')\n",
    "        else:\n",
    "            print('equation not have real root, two distinct imaginary roots')\n",
    "    root1 =( -b+cmath.sqrt(discriminant))/2*a*c\n",
    "    root2 =(-b-cmath.sqrt(discriminant))/2*a*c\n",
    "    print('root1:',root1)\n",
    "    print('root2:',root2)\n",
    "    \n",
    "a,b,c =1,3,1\n",
    "cal_roots(a,b,c)"
   ]
  },
  {
   "cell_type": "code",
   "execution_count": 25,
   "id": "a9648f44-74a4-4411-a15a-f7b975d87977",
   "metadata": {},
   "outputs": [
    {
     "name": "stdout",
     "output_type": "stream",
     "text": [
      "The day is: Wednesday\n"
     ]
    }
   ],
   "source": [
    "def determine_day(num):\n",
    "    if num == 1:\n",
    "        return \"Monday\"\n",
    "    elif num == 2:\n",
    "        return \"Tuesday\"\n",
    "    elif num == 3:\n",
    "        return \"Wednesday\"\n",
    "    elif num == 4:\n",
    "        return \"Thursday\"\n",
    "    elif num == 5:\n",
    "        return \"Friday\"\n",
    "    elif num == 6:\n",
    "        return \"Saturday\"\n",
    "    elif num == 7:\n",
    "        return \"Sunday\"\n",
    "    else:\n",
    "        return \"Invalid number\"\n",
    "\n",
    "# Example usage\n",
    "day_num = 3\n",
    "day = determine_day(day_num)\n",
    "print(\"The day is:\", day)"
   ]
  },
  {
   "cell_type": "code",
   "execution_count": 3,
   "id": "aa2d55fe-bc7f-4cd8-82c6-85b83c31fc5b",
   "metadata": {},
   "outputs": [
    {
     "name": "stdout",
     "output_type": "stream",
     "text": [
      "2000 is a leap year \n"
     ]
    }
   ],
   "source": [
    "def is_leap_year(year):\n",
    "    if year % 4 == 0:\n",
    "        if year % 100 == 0:\n",
    "            if year % 400 == 0:\n",
    "                return True\n",
    "            else:\n",
    "                return False\n",
    "        else:\n",
    "            return True\n",
    "    else:\n",
    "        return False\n",
    "\n",
    "# Example usage\n",
    "year = 2000\n",
    "if is_leap_year(year):\n",
    "    print(f\"{year} is a leap year \")\n",
    "else:\n",
    "    print(f\"{year} is not a leap year \")"
   ]
  },
  {
   "cell_type": "code",
   "execution_count": 39,
   "id": "711c45a6-a792-407e-966f-58e39dcb23da",
   "metadata": {},
   "outputs": [
    {
     "name": "stdout",
     "output_type": "stream",
     "text": [
      "given num is prime num\n"
     ]
    }
   ],
   "source": [
    "def check_prime(num):\n",
    "        if num <= 1:\n",
    "            return False\n",
    "        elif num ==2:\n",
    "            return True\n",
    "        else:\n",
    "            for i in range(2, int(num**0.5 )+1):\n",
    "                if num % i== 0:\n",
    "                    return False\n",
    "                else:\n",
    "                    return True\n",
    "    \n",
    "num = 5            \n",
    "if check_prime(num) :\n",
    "    print(\"given num is prime num\")\n",
    "else:\n",
    "    print(\"given num is not a prime num\")"
   ]
  },
  {
   "cell_type": "code",
   "execution_count": 3,
   "id": "5dca1d68-03d7-46b2-b3f0-bee11a7e8ae9",
   "metadata": {},
   "outputs": [],
   "source": [
    "# elif  statement"
   ]
  },
  {
   "cell_type": "code",
   "execution_count": 2,
   "id": "2197c221-abb9-4415-bce2-7207406a7385",
   "metadata": {},
   "outputs": [
    {
     "name": "stdin",
     "output_type": "stream",
     "text": [
      "enter student score 75\n"
     ]
    },
    {
     "name": "stdout",
     "output_type": "stream",
     "text": [
      "student grade : B+\n"
     ]
    }
   ],
   "source": [
    "def grade_score():\n",
    "    score = int(input('enter student score'))\n",
    "    if score >90:\n",
    "        print('student grade : A')\n",
    "    elif score >80:\n",
    "        print('student grade : A')\n",
    "    elif score >70:\n",
    "        print('student grade : B+')\n",
    "    elif score >60:\n",
    "        print('student grade : B')\n",
    "    else:\n",
    "        print('student grade : C')\n",
    "grade_score()   "
   ]
  },
  {
   "cell_type": "code",
   "execution_count": 11,
   "id": "bf1b884c-4af1-40ce-9ac5-901408374ebe",
   "metadata": {},
   "outputs": [
    {
     "name": "stdin",
     "output_type": "stream",
     "text": [
      "1st angle of triangle 100\n",
      "2nd angle of triangle 45\n",
      "3rd angle of triangle 78\n"
     ]
    },
    {
     "data": {
      "text/plain": [
       "'given triangle is obtuse triangle'"
      ]
     },
     "execution_count": 11,
     "metadata": {},
     "output_type": "execute_result"
    }
   ],
   "source": [
    "def find_type_triangle():\n",
    "    a = int(input('1st angle of triangle'))\n",
    "    b = int(input('2nd angle of triangle'))\n",
    "    c =int(input('3rd angle of triangle'))\n",
    "    if a > 90 or b>90 or c>90:\n",
    "        return 'given triangle is obtuse triangle'\n",
    "    elif a==90 or b==90 or c==90:\n",
    "        return 'given angle is right angle triangle'\n",
    "    else: \n",
    "        return 'given angle is acute triangle'\n",
    "    \n",
    "\n",
    "find_type_triangle()"
   ]
  },
  {
   "cell_type": "code",
   "execution_count": 1,
   "id": "e5089ba0-9347-44a5-9654-76b78934358a",
   "metadata": {},
   "outputs": [
    {
     "data": {
      "text/plain": [
       "'Overweight'"
      ]
     },
     "execution_count": 1,
     "metadata": {},
     "output_type": "execute_result"
    }
   ],
   "source": [
    "def interpret_bmi(bmi):\n",
    "    if bmi < 18.5:\n",
    "        return \"Underweight\"\n",
    "    elif bmi >= 18.5 and bmi < 25:\n",
    "        return \"Normal weight\"\n",
    "    elif bmi >= 25 and bmi < 30:\n",
    "        return \"Overweight\"\n",
    "    else:\n",
    "        return \"Obese\"\n",
    "bmi = 28\n",
    "interpret_bmi(bmi)"
   ]
  },
  {
   "cell_type": "code",
   "execution_count": 2,
   "id": "35ce34ae-88f6-4e46-bc7e-e97bfcdd69ac",
   "metadata": {},
   "outputs": [
    {
     "data": {
      "text/plain": [
       "'given num is positive num'"
      ]
     },
     "execution_count": 2,
     "metadata": {},
     "output_type": "execute_result"
    }
   ],
   "source": [
    "def num_type(num):\n",
    "    if num>0:\n",
    "        return 'given num is positive num' \n",
    "    elif num<0:\n",
    "        return 'given num is negative num'\n",
    "    else:\n",
    "        return 'given num is zero'\n",
    "\n",
    "num = 89\n",
    "num_type(num)"
   ]
  },
  {
   "cell_type": "code",
   "execution_count": 1,
   "id": "0e23f13d-825a-4902-aebf-2528a247f5fe",
   "metadata": {},
   "outputs": [
    {
     "data": {
      "text/plain": [
       "'given char is in lowercase'"
      ]
     },
     "execution_count": 1,
     "metadata": {},
     "output_type": "execute_result"
    }
   ],
   "source": [
    "def determine_charcter(char):\n",
    "    if char == char.upper():\n",
    "        return 'given char is in upper'\n",
    "    elif char == char.lower():\n",
    "        return 'given char is in lowercase'\n",
    "    else:\n",
    "        return 'given character is a special character'\n",
    "        \n",
    "char = 'k'        \n",
    "determine_charcter(char)"
   ]
  },
  {
   "cell_type": "code",
   "execution_count": 11,
   "id": "210a0e21-f33d-494d-a8ca-f45c82247f66",
   "metadata": {},
   "outputs": [
    {
     "name": "stdin",
     "output_type": "stream",
     "text": [
      "enter product price 78\n"
     ]
    },
    {
     "name": "stdout",
     "output_type": "stream",
     "text": [
      "total_amount_to_pay=$ 78.0\n"
     ]
    }
   ],
   "source": [
    "def discounted_price(product_total_price):\n",
    "    if  product_total_price >=1000:\n",
    "        discount = 0.05\n",
    "    elif  product_total_price >=5000:\n",
    "        discount =0.1\n",
    "    else:\n",
    "        discount = 0\n",
    "    price = product_total_price - product_total_price *discount\n",
    "    return price\n",
    "\n",
    "product_total_price =float(input('enter product price'))\n",
    "total_amount_to_pay =discounted_price(product_total_price)\n",
    "print('total_amount_to_pay=$', total_amount_to_pay )"
   ]
  },
  {
   "cell_type": "code",
   "execution_count": 11,
   "id": "189ce02c-a2eb-47a3-b5a6-b1fc25196915",
   "metadata": {},
   "outputs": [
    {
     "name": "stdin",
     "output_type": "stream",
     "text": [
      "enter used units 90\n"
     ]
    },
    {
     "data": {
      "text/plain": [
       "450"
      ]
     },
     "execution_count": 11,
     "metadata": {},
     "output_type": "execute_result"
    }
   ],
   "source": [
    "def electricity_bill():\n",
    "    unit = int(input('enter used units'))\n",
    "    if unit <400:\n",
    "        return 5*unit\n",
    "    elif 400< unit <500:\n",
    "        return 6.5*unit\n",
    "    elif  500< unit <800:\n",
    "        return 8*unit\n",
    "    elif 800< unit <1000:\n",
    "        return 9*unit\n",
    "    else:\n",
    "        return 11*unit\n",
    "    \n",
    "electricity_bill()"
   ]
  },
  {
   "cell_type": "code",
   "execution_count": 15,
   "id": "59331d5c-90ec-49c3-9a4b-14dc5f7ad37d",
   "metadata": {},
   "outputs": [
    {
     "name": "stdin",
     "output_type": "stream",
     "text": [
      "Enter the length of side a:  7\n",
      "Enter the length of side b:  7\n",
      "Enter the length of side c:  7\n",
      "Enter the length of side d:  7\n",
      "Enter the measure of angle A:  90\n",
      "Enter the measure of angle B:  90\n",
      "Enter the measure of angle C:  90\n",
      "Enter the measure of angle D:  90\n"
     ]
    },
    {
     "name": "stdout",
     "output_type": "stream",
     "text": [
      "Quadrilateral type: Square\n"
     ]
    }
   ],
   "source": [
    "def determine_quadrilateral_type(a, b, c, d, angle_A, angle_B, angle_C, angle_D):\n",
    "    if a == b == c == d:\n",
    "        if angle_A == angle_B == angle_C == angle_D == 90:\n",
    "            return \"Square\"\n",
    "        else:\n",
    "            return \"Rhombus\"\n",
    "    elif a == c and b == d:\n",
    "        if angle_A == angle_C and angle_B == angle_D:\n",
    "            return \"Rectangle\"\n",
    "        else:\n",
    "            return \"Parallelogram\"\n",
    "    else:\n",
    "        if angle_A == angle_C and angle_B == angle_D:\n",
    "            return \"Trapezoid\"\n",
    "        else:\n",
    "            return \"Quadrilateral\"\n",
    "\n",
    "\n",
    "a = float(input(\"Enter the length of side a: \"))\n",
    "b = float(input(\"Enter the length of side b: \"))\n",
    "c = float(input(\"Enter the length of side c: \"))\n",
    "d = float(input(\"Enter the length of side d: \"))\n",
    "angle_A = float(input(\"Enter the measure of angle A: \"))\n",
    "angle_B = float(input(\"Enter the measure of angle B: \"))\n",
    "angle_C = float(input(\"Enter the measure of angle C: \"))\n",
    "angle_D = float(input(\"Enter the measure of angle D: \"))\n",
    "\n",
    "quadrilateral_type = determine_quadrilateral_type(a, b, c, d, angle_A, angle_B, angle_C, angle_D)\n",
    "print(\"Quadrilateral type:\", quadrilateral_type)"
   ]
  },
  {
   "cell_type": "code",
   "execution_count": 11,
   "id": "7bc75b5f-0cc4-4fbc-a6ca-ababa500f415",
   "metadata": {},
   "outputs": [
    {
     "name": "stdout",
     "output_type": "stream",
     "text": [
      "this is a winter season in month ofjan\n"
     ]
    }
   ],
   "source": [
    "def determine_season(month):\n",
    "    if month in ['nov', 'dec','jan', 'feb']:\n",
    "        return 'winter season'\n",
    "    elif month in ['march', 'april','may','june']:\n",
    "        return 'summer season'\n",
    "    else:\n",
    "        return 'spring season'\n",
    "    \n",
    "month = 'jan'\n",
    "season =determine_season(month)\n",
    "print( f'this is a {season} in month of{month}')"
   ]
  },
  {
   "cell_type": "code",
   "execution_count": 8,
   "id": "3e0ba7da-ea3e-4a01-b5e2-df971a289419",
   "metadata": {},
   "outputs": [
    {
     "name": "stdin",
     "output_type": "stream",
     "text": [
      "enter year here 2098\n",
      "enter month (1-12) here: 7\n"
     ]
    },
    {
     "data": {
      "text/plain": [
       "'2098 is not a leap year and there are (1, 31) days in 7nd  year'"
      ]
     },
     "execution_count": 8,
     "metadata": {},
     "output_type": "execute_result"
    }
   ],
   "source": [
    "def determine_month_year():\n",
    "    import calendar\n",
    "    year = int(input('enter year here'))\n",
    "    month = int(input('enter month (1-12) here:'))\n",
    "    is_leap_year = calendar.isleap(year)\n",
    "    days_in_month = calendar.monthrange(year,month)\n",
    "    \n",
    "    if is_leap_year:\n",
    "        return f'{year} is a leap year and there are {days_in_month} days in {month}nd month of {year} year'\n",
    "    else:\n",
    "        return f'{year} is not a leap year and there are {days_in_month} days in {month}nd  year'\n",
    "\n",
    "determine_month_year()"
   ]
  },
  {
   "cell_type": "code",
   "execution_count": 9,
   "id": "c2770d09-d189-42e5-b2fb-8607c1a623ac",
   "metadata": {},
   "outputs": [],
   "source": [
    "# intermediate level:"
   ]
  },
  {
   "cell_type": "code",
   "execution_count": 5,
   "id": "95235dca-f578-42e7-b458-c1a26a9c79b9",
   "metadata": {},
   "outputs": [
    {
     "name": "stdout",
     "output_type": "stream",
     "text": [
      ".....ATM transaction menu............\n",
      "1. check balance\n",
      "2.withdraw\n",
      "3.deposit\n",
      "4.quit\n"
     ]
    },
    {
     "name": "stdin",
     "output_type": "stream",
     "text": [
      "enter your choice 2\n"
     ]
    },
    {
     "name": "stdout",
     "output_type": "stream",
     "text": [
      "your choice is : withdraw\n"
     ]
    },
    {
     "name": "stdin",
     "output_type": "stream",
     "text": [
      "enter your amount of withdrawal 340\n"
     ]
    },
    {
     "name": "stdout",
     "output_type": "stream",
     "text": [
      "this is a amount to withdraw : 340\n"
     ]
    }
   ],
   "source": [
    "def display_menu():\n",
    "    print('.....ATM transaction menu............')\n",
    "    print('1. check balance')\n",
    "    print('2.withdraw')\n",
    "    print('3.deposit')\n",
    "    print('4.quit')\n",
    "    \n",
    "    choice = int(input('enter your choice'))\n",
    "    if choice == 1:\n",
    "        print('your choice is : check balance')\n",
    "        print(f'your balance is {balance}')\n",
    "    elif choice == 2:\n",
    "        print('your choice is : withdraw')\n",
    "        withdraw_amount = int(input('enter your amount of withdrawal'))\n",
    "        print(f'this is a amount to withdraw : {withdraw_amount}')\n",
    "    elif choice == 3:\n",
    "        print('your choice is : deposit')\n",
    "        deposite_amount = int(input('enter your amount to deposite'))\n",
    "        print(f'this is a amount to deposite : {deposite_amount}')\n",
    "    elif choice == 4:\n",
    "        print('your choice is : quit')\n",
    "        print('quit the menu')\n",
    "    else:\n",
    "        print('you have entered wrong choice')\n",
    "              \n",
    "display_menu()"
   ]
  },
  {
   "cell_type": "code",
   "execution_count": 21,
   "id": "7e7ec36b-7e68-4f08-9576-de8e7d37514f",
   "metadata": {},
   "outputs": [
    {
     "data": {
      "text/plain": [
       "2.5"
      ]
     },
     "execution_count": 21,
     "metadata": {},
     "output_type": "execute_result"
    }
   ],
   "source": [
    "def cal_average(list):\n",
    "    if len(list) <=2:\n",
    "        return 0\n",
    "    else:\n",
    "        sorted_list = sorted(list)\n",
    "        trimmed_list = sorted_list[1:-1] # exclude 1st and last element\n",
    "        average = sum(trimmed_list)/len(trimmed_list)\n",
    "        \n",
    "        return average\n",
    "    \n",
    "list = [3,2,5,1]\n",
    "cal_average(list)"
   ]
  },
  {
   "cell_type": "code",
   "execution_count": 12,
   "id": "ab4052eb-61db-487b-b9aa-ffd48eee107a",
   "metadata": {},
   "outputs": [
    {
     "name": "stdin",
     "output_type": "stream",
     "text": [
      "enter programe have to perform with numbers division\n"
     ]
    },
    {
     "data": {
      "text/plain": [
       "1.5"
      ]
     },
     "execution_count": 12,
     "metadata": {},
     "output_type": "execute_result"
    }
   ],
   "source": [
    "def calculator(a,b):\n",
    "    \n",
    "    program = input('enter programe have to perform with numbers')\n",
    "    if program == 'add':\n",
    "        return a+b\n",
    "    elif program == 'substract':\n",
    "        return a-b\n",
    "    elif program == 'multiplication':\n",
    "        return a*b\n",
    "    elif program == 'division':\n",
    "        return a/b\n",
    "    else:\n",
    "        return 'you have not entered correct programe'\n",
    "    \n",
    "a = 6\n",
    "b = 4\n",
    "calculator(a,b)"
   ]
  },
  {
   "cell_type": "code",
   "execution_count": 20,
   "id": "b4fc1c1b-9113-4b64-95a6-c18251cbb103",
   "metadata": {},
   "outputs": [
    {
     "name": "stdout",
     "output_type": "stream",
     "text": [
      "[-0.4794929771564358]\n"
     ]
    }
   ],
   "source": [
    "import cmath\n",
    "import numpy as np\n",
    "\n",
    "def find_cubic_roots(a, b, c, d):\n",
    "    # Calculate intermediate variables\n",
    "    p = (3*a*c - b*2) / (3*a*2)\n",
    "    q = (2*b*3 - 9*a*b*c + 27*a*d) / (27*a*3)\n",
    "    delta = (q*2 / 4) + (p*3 / 27)\n",
    "\n",
    "    # Check if the equation has one real root or three real roots\n",
    "    if delta > 0:\n",
    "        # Equation has one real root\n",
    "        r = -(q / 2) + cmath.sqrt(delta)\n",
    "        s = -(q / 2) - cmath.sqrt(delta)\n",
    "        u = r**(1/3) if r.real >= 0 else -((-r)**(1/3))\n",
    "        v = s**(1/3) if s.real >= 0 else -((-s)**(1/3))\n",
    "        root = u + v - (b / (3*a))\n",
    "        return [root.real]\n",
    "\n",
    "    elif delta == 0:\n",
    "        # Equation has three real roots\n",
    "        if q >= 0:\n",
    "            root = -(-q / 2)**(1/3)\n",
    "        else:\n",
    "            root = (-q / 2)**(1/3)\n",
    "        return [root.real, root.real, -(2*root.real) - (b / (3*a))]\n",
    "\n",
    "    else:\n",
    "        # Equation has three distinct real roots\n",
    "        phi = cmath.acos(-q / (2 * cmath.sqrt(-(p**3 / 27))))\n",
    "        root1 = 2 * cmath.sqrt(-p / 3) * cmath.cos(phi / 3) - (b / (3*a))\n",
    "        root2 = 2 * cmath.sqrt(-p / 3) * cmath.cos((phi + 2*cmath.pi) / 3) - (b / (3*a))\n",
    "        root3 = 2 * cmath.sqrt(-p / 3) * cmath.cos((phi + 4*cmath.pi) / 3) - (b / (3*a))\n",
    "        return [root1.real, root2.real, root3.real]\n",
    "\n",
    "\n",
    "#driver code\n",
    "a = 1\n",
    "b = -6\n",
    "c = 11\n",
    "d = -6\n",
    "roots = find_cubic_roots(a, b, c, d)\n",
    "print(roots)"
   ]
  },
  {
   "cell_type": "code",
   "execution_count": 22,
   "id": "e3d6ea53-1f2a-479c-926d-cfde5599a9f0",
   "metadata": {},
   "outputs": [],
   "source": [
    "# advanced level"
   ]
  },
  {
   "cell_type": "code",
   "execution_count": 9,
   "id": "e17d466f-baa6-45d7-8445-6ef23843c198",
   "metadata": {},
   "outputs": [
    {
     "name": "stdout",
     "output_type": "stream",
     "text": [
      "income tax: 1500.0000000000002\n"
     ]
    }
   ],
   "source": [
    "def cal_income_tax(income):\n",
    "    tax_brackets = [(0,3000, 0), (3001 , 6000 ,0.05),(6001, 9000 , 0.10),(90001 , float('inf'), 0.15)]\n",
    "    tax = 0\n",
    "    for bracket in tax_brackets :\n",
    "        min_income , max_income , tax_rate = bracket\n",
    "        if income> max_income:\n",
    "            tax = tax +0.05\n",
    "        else:\n",
    "            payable_tax = income *tax\n",
    "            return payable_tax \n",
    "    \n",
    "#driver code\n",
    "income = 10000\n",
    "tax_ = cal_income_tax(income)\n",
    "print('income tax:' , tax_)"
   ]
  },
  {
   "cell_type": "code",
   "execution_count": 8,
   "id": "a3f7fb44-b5f1-453e-a68e-29bfbcb26993",
   "metadata": {},
   "outputs": [
    {
     "name": "stdout",
     "output_type": "stream",
     "text": [
      "welcome to rock , paper, scissor game\n"
     ]
    },
    {
     "name": "stdin",
     "output_type": "stream",
     "text": [
      "enter your choice:(paper , rock, scissor) paper\n"
     ]
    },
    {
     "name": "stdout",
     "output_type": "stream",
     "text": [
      "paper\n",
      "its a tie\n"
     ]
    },
    {
     "name": "stdin",
     "output_type": "stream",
     "text": [
      "enter your choice want to continue game :(yes or no) yes\n",
      "enter your choice:(paper , rock, scissor) rock\n"
     ]
    },
    {
     "name": "stdout",
     "output_type": "stream",
     "text": [
      "rock\n",
      "its a tie\n"
     ]
    },
    {
     "name": "stdin",
     "output_type": "stream",
     "text": [
      "enter your choice want to continue game :(yes or no) no\n"
     ]
    }
   ],
   "source": [
    "import random\n",
    "def game():\n",
    "    print('welcome to rock , paper, scissor game')\n",
    "    while True:\n",
    "        user_choice = input('enter your choice:(paper , rock, scissor)').lower()\n",
    "        choices =('paper' , 'rock', 'scissor')\n",
    "        computer_choice = random.choice(choices)\n",
    "        print(computer_choice)\n",
    "    \n",
    "        \n",
    "        if user_choice in ('paper' , 'rock', 'scissor'):\n",
    "            if user_choice == computer_choice:\n",
    "                print('its a tie')\n",
    "            elif (user_choice =='paper' and computer_choice =='rock') or(user_choice =='rock' and computer_choice =='scissor') or (user_choice =='scissor' and computer_choice =='paper'):\n",
    "                print('you win!')\n",
    "            else:\n",
    "                print('computer win !')\n",
    "        else:\n",
    "            return'you have entered invalid choice'\n",
    "    \n",
    "        \n",
    "        play_again = input('enter your choice want to continue game :(yes or no)')\n",
    "        if play_again != 'yes':\n",
    "            break\n",
    "            \n",
    "game()"
   ]
  },
  {
   "cell_type": "code",
   "execution_count": 6,
   "id": "b299a73f-8837-4b77-8e67-9156ae95a057",
   "metadata": {},
   "outputs": [
    {
     "name": "stdout",
     "output_type": "stream",
     "text": [
      "37cbq\n"
     ]
    }
   ],
   "source": [
    "import string\n",
    "import random\n",
    "def develop_random_password(length , complexity):\n",
    "    if complexity == 'low':\n",
    "        character = string.ascii_lowercase \n",
    "    elif complexity == 'medium':\n",
    "        character = string.ascii_lowercase +string.digits\n",
    "    elif complexity == 'high':\n",
    "        character = string.ascii_lowercase +string.digits +string.punctuation\n",
    "    else:\n",
    "        print('invalid complexity level . please choose from high, medium,low')\n",
    "    \n",
    "    password = ''.join(random.choice(character) for _ in range(length))\n",
    "    \n",
    "    print(password)\n",
    "    \n",
    "\n",
    "length = 5\n",
    "complexity = 'medium'\n",
    "develop_random_password(length , complexity)    "
   ]
  },
  {
   "cell_type": "code",
   "execution_count": 6,
   "id": "8fab7005-4d3f-466e-b9c2-f10083d7abe1",
   "metadata": {},
   "outputs": [
    {
     "name": "stdout",
     "output_type": "stream",
     "text": [
      "welcome to adventures game!\n",
      "you find yourself in a dark room\n",
      "there are two doors in front of you ,one on the left and one on the right \n",
      "which door do you choose?(left/right)\n"
     ]
    },
    {
     "name": "stdin",
     "output_type": "stream",
     "text": [
      "> left\n"
     ]
    },
    {
     "name": "stdout",
     "output_type": "stream",
     "text": [
      "you have entered a room filled with treasure!\n",
      "congratulations ,you win!\n"
     ]
    }
   ],
   "source": [
    "def start_game():\n",
    "  print('welcome to adventures game!')\n",
    "  print('you find yourself in a dark room')\n",
    "  print('there are two doors in front of you ,one on the left and one on the right ')\n",
    "  print('which door do you choose?(left/right)')\n",
    "  choice = input('>')\n",
    "\n",
    "  if choice.lower() == 'left':\n",
    "    left_door()\n",
    "  elif choice.lower() == 'right':\n",
    "    right_door()\n",
    "  else:\n",
    "    print('invalid choice. please try again')\n",
    "    text_adventure_game()\n",
    "\n",
    "def left_door():\n",
    "  print('you have entered a room filled with treasure!')\n",
    "  print('congratulations ,you win!')\n",
    "\n",
    "def right_door():\n",
    "  print('you have entered room full of monsters!')\n",
    "  print('oh no, you were eaten by the monsters!')\n",
    "  print('game over!')\n",
    "\n",
    "start_game()"
   ]
  },
  {
   "cell_type": "code",
   "execution_count": 7,
   "id": "b89bd052-40a5-4597-892f-41ecd0930b3c",
   "metadata": {},
   "outputs": [
    {
     "data": {
      "text/plain": [
       "1.6666666666666667"
      ]
     },
     "execution_count": 7,
     "metadata": {},
     "output_type": "execute_result"
    }
   ],
   "source": [
    "def solve_linear_equation(coeff, constant):\n",
    "  if coeff == 0:\n",
    "    print('equation is not solvable')\n",
    "  else:\n",
    "    solution = constant/coeff\n",
    "    return solution\n",
    "\n",
    "coeff = 3\n",
    "constant=5\n",
    "solve_linear_equation(coeff, constant)"
   ]
  },
  {
   "cell_type": "code",
   "execution_count": 8,
   "id": "3de2f7c3-dc73-4822-9f0d-19115ca40062",
   "metadata": {},
   "outputs": [
    {
     "name": "stdout",
     "output_type": "stream",
     "text": [
      "welcome to quize game\n",
      "What is the capital of France?\n",
      "['A. London', 'B. Paris', 'C. Rome', 'D. Madrid']\n"
     ]
    },
    {
     "name": "stdin",
     "output_type": "stream",
     "text": [
      "enter your answer here:(A,B,C OR D) a\n"
     ]
    },
    {
     "name": "stdout",
     "output_type": "stream",
     "text": [
      "oops answer get wrong!\n",
      "Which planet is known as the Red Planet?\n",
      "['A. Mars', 'B. Venus', 'C. Jupiter', 'D. Saturn']\n"
     ]
    },
    {
     "name": "stdin",
     "output_type": "stream",
     "text": [
      "enter your answer here:(A,B,C OR D) c\n"
     ]
    },
    {
     "name": "stdout",
     "output_type": "stream",
     "text": [
      "oops answer get wrong!\n",
      "What is the largest ocean in the world?\n",
      "['A. Atlantic Ocean', 'B. Indian Ocean', 'C. Arctic Ocean', 'D. Pacific Ocean']\n"
     ]
    },
    {
     "name": "stdin",
     "output_type": "stream",
     "text": [
      "enter your answer here:(A,B,C OR D) b\n"
     ]
    },
    {
     "name": "stdout",
     "output_type": "stream",
     "text": [
      "oops answer get wrong!\n",
      "your final score is 0\n"
     ]
    }
   ],
   "source": [
    "def mcq_game():\n",
    "\n",
    "  print('welcome to quize game')\n",
    "  score =0\n",
    "  questions =[{'question':\"What is the capital of France?\",'option':[\"A. London\", \"B. Paris\", \"C. Rome\", \"D. Madrid\"], 'answer':\"B\"},\n",
    "  {'question' : \"Which planet is known as the Red Planet?\", 'option':[\"A. Mars\", \"B. Venus\", \"C. Jupiter\", \"D. Saturn\"],'answer': \"A\"},\n",
    "  {'question':\"What is the largest ocean in the world?\",'option': [\"A. Atlantic Ocean\", \"B. Indian Ocean\", \"C. Arctic Ocean\", \"D. Pacific Ocean\"],'answer': \"D\"\n",
    "  }]\n",
    "\n",
    "  for question in questions:\n",
    "    print(question['question'])\n",
    "    print(question['option'])\n",
    "    user_ans = input('enter your answer here:(A,B,C OR D)')\n",
    "    if user_ans.upper() == question['answer']:\n",
    "      print('congratulations!')\n",
    "      score+=1\n",
    "    else:\n",
    "      print('oops answer get wrong!')\n",
    "\n",
    "  print('your final score is',score)\n",
    "\n",
    "mcq_game()"
   ]
  },
  {
   "cell_type": "code",
   "execution_count": 9,
   "id": "c5ea82ee-b526-40c4-a83b-9210b9b4822b",
   "metadata": {},
   "outputs": [
    {
     "name": "stdin",
     "output_type": "stream",
     "text": [
      "enter your year here: 5608\n"
     ]
    },
    {
     "name": "stdout",
     "output_type": "stream",
     "text": [
      "5608 this is not a prime year\n"
     ]
    }
   ],
   "source": [
    "def is_prime_year(year):\n",
    "  if year<=1:\n",
    "    return False\n",
    "  for i in range(2,int(year**0.5)+1):\n",
    "       if year%i == 0:\n",
    "         return False\n",
    "  return True\n",
    "\n",
    "\n",
    "year =int(input('enter your year here:'))\n",
    "if is_prime_year(year):\n",
    "  print(year,'this is a prime year')\n",
    "else:\n",
    "  print(year,'this is not a prime year')"
   ]
  },
  {
   "cell_type": "code",
   "execution_count": null,
   "id": "cbcf2216-00ba-4a91-9fd5-3035dac3623a",
   "metadata": {},
   "outputs": [],
   "source": []
  }
 ],
 "metadata": {
  "kernelspec": {
   "display_name": "Python 3 (ipykernel)",
   "language": "python",
   "name": "python3"
  },
  "language_info": {
   "codemirror_mode": {
    "name": "ipython",
    "version": 3
   },
   "file_extension": ".py",
   "mimetype": "text/x-python",
   "name": "python",
   "nbconvert_exporter": "python",
   "pygments_lexer": "ipython3",
   "version": "3.10.8"
  }
 },
 "nbformat": 4,
 "nbformat_minor": 5
}
